{
 "cells": [
  {
   "cell_type": "markdown",
   "id": "e1c49c8b-51f1-44b3-aea5-527dd6801812",
   "metadata": {
    "tags": []
   },
   "source": [
    "# FinalProject_DataMining-py\n",
    "**oriya shapira**\n",
    "- The data set contains information about Subaro cars posted in the years 1980-2024 (the entire database).\n",
    "- link to the project page in GitHub - https://github.com/OriyaShapira/FinalProject_DataMining.git"
   ]
  },
  {
   "cell_type": "code",
   "execution_count": 1,
   "id": "3c79723e-62c6-43c0-a5c3-13294cec3cca",
   "metadata": {
    "tags": []
   },
   "outputs": [],
   "source": [
    "import requests\n",
    "from bs4 import BeautifulSoup\n",
    "import pandas as pd\n",
    "import datetime\n",
    "import calendar\n",
    "import re\n",
    "from concurrent.futures import ThreadPoolExecutor\n",
    "from functools import partial"
   ]
  },
  {
   "cell_type": "code",
   "execution_count": 2,
   "id": "0c50cd09-3365-47a8-8295-751f82f8e239",
   "metadata": {
    "tags": []
   },
   "outputs": [],
   "source": [
    "def gat_all_pages(keywords):\n",
    "    #This function returns a list of URLs to all the pages on the ad.co.il website that contain ads with the specified keyword.\n",
    "    pages_url_list = []\n",
    "    try:\n",
    "        url = \"https://www.ad.co.il/car?keyword=\" + keywords\n",
    "        pages_url_list.append(url)\n",
    "        response = requests.get(url)\n",
    "        if not response.status_code == 200:\n",
    "            print (f\"Could not fetch data from website. Got status code: {response.status_code}\")\n",
    "            return []\n",
    "        results_page = BeautifulSoup(response.content, 'html.parser')\n",
    "        pages = results_page.find_all('li',{'class':'page-item mx-1 d-none d-sm-block'})\n",
    "        pages_url_list = [url + f\"&pageindex={i+2}\" for i in range(len(pages))] + [url]\n",
    "        # for page in pages:\n",
    "        #     page_url = \"https://www.ad.co.il\" + page.find('a').get('href')\n",
    "        #     pages_url_list.append(page_url)\n",
    "    except Exception as e:\n",
    "        print(f\"Could not find links for {keywords} pages. Got error: {str(e)}\")\n",
    "        return []\n",
    "    return pages_url_list"
   ]
  },
  {
   "cell_type": "code",
   "execution_count": 3,
   "id": "cdc49a18-95cd-41a3-a717-b6cb4cd6494a",
   "metadata": {
    "tags": []
   },
   "outputs": [],
   "source": [
    "def get_ad_url(url_list):\n",
    "    #This function returns a list of URLs to specific ads containing the keyword and the price of the object being published.\n",
    "    ads_list = []\n",
    "    try:\n",
    "        for url in url_list:\n",
    "            response = requests.get(url)\n",
    "            if not response.status_code == 200:\n",
    "                print (f\"Could not fetch data from website. Got status code: {response.status_code}\")\n",
    "                return []\n",
    "            results_page = BeautifulSoup(response.content, 'html.parser')\n",
    "            car_ad = results_page.find_all('div',{'class':'card-body p-md-3'})\n",
    "            for detail in car_ad:\n",
    "                if 'סובארו' in detail.find('h2').get_text(strip = True):\n",
    "                    car_ad_url = \"https://www.ad.co.il\" + detail.find('a').get('href')\n",
    "                    ads_list.append(car_ad_url)\n",
    "        return ads_list\n",
    "    except Exception as e:\n",
    "        print(f\"Could not get links for {keywords}. Got error: {str(e)}\")\n",
    "        return []"
   ]
  },
  {
   "cell_type": "code",
   "execution_count": 4,
   "id": "ba5875ac-7bd3-4afb-b4e3-07c067a28499",
   "metadata": {
    "tags": []
   },
   "outputs": [],
   "source": [
    "def get_sys_dates(results_page):\n",
    "    # Given an ad URL, this function returns the dates that the ad was published and reupdated.\n",
    "    car_dict = {}\n",
    "    sys_date = results_page.find('div',{'class':'d-flex flex-row align-items-center justify-content-center flex-wrap'}).find_all('div',{'class':'px-3'})\n",
    "    for date in sys_date:\n",
    "        if 'תאריך יצירה:' or 'תאריך הקפצה אחרון:' in date:\n",
    "            date = date.text.strip()\n",
    "            key, date_str = date.split(\":\")\n",
    "            value = datetime.datetime.strptime(date_str[1:], \"%d/%m/%Y\")\n",
    "            car_dict[key] = value\n",
    "    return car_dict"
   ]
  },
  {
   "cell_type": "code",
   "execution_count": 5,
   "id": "e32db181-8b50-4a37-af3b-279901e1fc3a",
   "metadata": {
    "tags": []
   },
   "outputs": [],
   "source": [
    "def get_car_details(car_link):\n",
    "    # Given an ad URL, this function returns all the details posted in the ad\n",
    "    response = requests.get(car_link)\n",
    "    if not response.status_code == 200:\n",
    "        print('none')\n",
    "    car_dict = {}\n",
    "    results_page = BeautifulSoup(response.content, 'html.parser')\n",
    "    car_h2 = results_page.find('div',{'class':'d-flex justify-content-between'}).find_all('h2')\n",
    "    split_header = car_h2[0].get_text(strip = True).split(' ')\n",
    "    car_dict['manufactor'] = split_header[0]\n",
    "    car_dict['model'] = split_header[1] if len(split_header) >= 2 else split_header[0]\n",
    "    car_dict['Price'] = car_h2[1].text.strip().replace(\",\", \"\").replace(\" \", \"\").replace(\"₪\", \"\") if len(car_h2) >= 2 else None\n",
    "    car_dict['Pic_num'] = len(results_page.find_all('img'))\n",
    "    try:\n",
    "        description = results_page.find('p',{'class':'text-word-break'}).get_text(strip = True)\n",
    "    except AttributeError:\n",
    "        description = \"\"\n",
    "    car_dict['Description'] = description\n",
    "    table = results_page.find('table',{'class':'table table-sm mb-4'})\n",
    "    if table:\n",
    "        for tr in table.find_all('tr'):\n",
    "            cells = tr.find_all('td')\n",
    "            key, value = [cell.get_text(strip = True).replace(\",\",\"\") for cell in cells]\n",
    "            car_dict[key] = value\n",
    "    car_dict.update(get_sys_dates(results_page))\n",
    "    return car_dict"
   ]
  },
  {
   "cell_type": "code",
   "execution_count": 6,
   "id": "e6b1aee1-9d31-4f75-8f21-a80ae9bd6ccf",
   "metadata": {
    "tags": []
   },
   "outputs": [],
   "source": [
    "def get_test_date_in_days(date_str):\n",
    "    # This function gets the car test date and returns the number of days from the current day to that date.\n",
    "    if not date_str == None:\n",
    "        date_obj = datetime.datetime.strptime(date_str, \"%m/%Y\")\n",
    "        year = date_obj.year\n",
    "        month = date_obj.month\n",
    "        last_day_of_month = datetime.datetime(year, month, calendar.monthrange(year, month)[1])\n",
    "        delta = (last_day_of_month - datetime.datetime.now()).days\n",
    "        return delta"
   ]
  },
  {
   "cell_type": "code",
   "execution_count": 7,
   "id": "6dff7d7a-c3a5-49ea-8bb8-878663051b9b",
   "metadata": {
    "tags": []
   },
   "outputs": [],
   "source": [
    "def get_supply_info_dict(keyword):\n",
    "    #This function returns a list of dictionaries containing the car model, year, and supply score.\n",
    "    supply_info = []\n",
    "    try:\n",
    "        url = 'https://data.gov.il/api/3/action/datastore_search?resource_id=5e87a7a1-2f6f-41c1-8aec-7216d52a6cf6'\n",
    "        response = requests.get(url)\n",
    "        if not response.status_code == 200:\n",
    "            print (f\"Could not fetch data from API website. Got status code: {response.status_code}\")\n",
    "        results_page = response.json()  \n",
    "        for item in results_page['result']['records']:\n",
    "            if item['tozar'] == keyword and 1980<=item['shnat_yitzur']<=2024:\n",
    "                supply_info.append({'Year': item['shnat_yitzur'],\n",
    "                                   'Model': item['kinuy_mishari'],\n",
    "                                   'Supply_score': item['mispar_rechavim_pailim']})\n",
    "    except Exception as e:\n",
    "        print(f\"Could not get Supply info for {keywords}. Got error: {str(e)}\")\n",
    "        return []\n",
    "    return supply_info"
   ]
  },
  {
   "cell_type": "code",
   "execution_count": 8,
   "id": "8f6d22c5-3395-4f66-957f-79513716c83d",
   "metadata": {
    "tags": []
   },
   "outputs": [],
   "source": [
    "def get_supply_info_for_model_year(supply_info, year, model):\n",
    "    matching_supply = [supply for supply in supply_info if supply['Year'] == int(year) and supply['Model'] == model]  \n",
    "    if matching_supply:\n",
    "        return matching_supply[0]['Supply_score']\n",
    "    return None"
   ]
  },
  {
   "cell_type": "code",
   "execution_count": 9,
   "id": "aef8307a-6b79-4112-b8e0-468beb19fc6f",
   "metadata": {
    "tags": []
   },
   "outputs": [],
   "source": [
    "def parse_car_details(car_link_and_price, supply_info):\n",
    "    # Constructing a dictionary for each ad\n",
    "    cars_dict = {}\n",
    "    car_details = get_car_details(car_link_and_price)\n",
    "    cars_dict['Manufactor'] = car_details.get('manufactor',None)\n",
    "    cars_dict['Year'] = car_details.get('שנה',None)\n",
    "    cars_dict['Model'] = car_details.get('model',None)\n",
    "    cars_dict['Hand'] = car_details.get('יד',None)\n",
    "    cars_dict['Gear'] = car_details.get('ת. הילוכים',None)\n",
    "    cars_dict['Engine_capacity'] = car_details.get('נפח',None)\n",
    "    cars_dict['Engine_type'] = car_details.get('סוג מנוע',None)\n",
    "    cars_dict['Prev_ownership'] = car_details.get('בעלות קודמת',None)\n",
    "    cars_dict['Curr_ownership'] = car_details.get('בעלות נוכחית',None)\n",
    "    cars_dict['Area'] = car_details.get('אזור',None)\n",
    "    cars_dict['City'] = car_details.get('עיר',None)\n",
    "    cars_dict['Price'] = car_details.get('Price',None)\n",
    "    cars_dict['Pic_num'] = car_details.get('Pic_num',None)\n",
    "    cars_dict['Cre_date'] = car_details.get('תאריך יצירה',None)\n",
    "    cars_dict['Repub_date'] = car_details.get('תאריך הקפצה אחרון',None)\n",
    "    cars_dict['Description'] = car_details.get('Description',None)\n",
    "    cars_dict['Color'] = car_details.get('צבע',None)\n",
    "    cars_dict['Km'] = car_details.get('ק\"מ',None)\n",
    "    cars_dict['Test'] = get_test_date_in_days(car_details.get('טסט עד',None))\n",
    "    cars_dict['Supply_score'] = get_supply_info_for_model_year(supply_info, cars_dict['Year'], cars_dict['Model'])\n",
    "    return cars_dict"
   ]
  },
  {
   "cell_type": "code",
   "execution_count": null,
   "id": "8abe4a34-83ec-4f9a-b7aa-11ab2b73f61a",
   "metadata": {},
   "outputs": [],
   "source": [
    "keywords = 'סובארו'\n",
    "all_pages_links = gat_all_pages(keywords)\n",
    "all_car_links = get_ad_url(all_pages_links)\n",
    "supply_info = get_supply_info_dict(keywords)\n",
    "\n",
    "partial_parse_car_details = partial(parse_car_details, supply_info=supply_info)\n",
    "with ThreadPoolExecutor(max_workers=None) as executor:  # Use all available CPU cores\n",
    "    results = executor.map(partial_parse_car_details, all_car_links)  # Parallelize the loop\n",
    "    \n",
    "df = pd.DataFrame(results)\n",
    "\n",
    "# Assigning types to columns\n",
    "categoricals = ['Prev_ownership', 'Curr_ownership', 'Engine_type', 'Gear']\n",
    "strings = ['Area','City','Color','Description','Manufactor','Model']\n",
    "integers = ['Year','Hand', 'Engine_capacity', 'Pic_num', 'Km', 'Test', 'Supply_score']\n",
    "df[categoricals] = df[categoricals].astype('category')\n",
    "df[strings] = df[strings].astype(pd.StringDtype())\n",
    "df[integers] = df[integers].astype('Int64')\n",
    "\n",
    "df = df[(df['Year'] >= 1980) & (df['Year'] <= 2024)]\n",
    "df = df[df['Curr_ownership'].notnull()]\n",
    "\n",
    "df.to_csv('df.csv', index=False, encoding='utf-8-sig')\n",
    "display(df)"
   ]
  },
  {
   "cell_type": "code",
   "execution_count": null,
   "id": "4fab20ec-0700-4aa4-bd91-40a0ee352fe8",
   "metadata": {},
   "outputs": [],
   "source": []
  }
 ],
 "metadata": {
  "kernelspec": {
   "display_name": "Python 3 (ipykernel)",
   "language": "python",
   "name": "python3"
  },
  "language_info": {
   "codemirror_mode": {
    "name": "ipython",
    "version": 3
   },
   "file_extension": ".py",
   "mimetype": "text/x-python",
   "name": "python",
   "nbconvert_exporter": "python",
   "pygments_lexer": "ipython3",
   "version": "3.11.5"
  }
 },
 "nbformat": 4,
 "nbformat_minor": 5
}
